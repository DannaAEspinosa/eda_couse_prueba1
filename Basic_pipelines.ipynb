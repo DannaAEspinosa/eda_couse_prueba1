{
  "cells": [
    {
      "cell_type": "markdown",
      "metadata": {
        "colab_type": "text",
        "id": "view-in-github"
      },
      "source": [
        "<a href=\"https://colab.research.google.com/github/armandoordonez/eda_couse/blob/main/Basic_pipelines.ipynb\" target=\"_parent\"><img src=\"https://colab.research.google.com/assets/colab-badge.svg\" alt=\"Open In Colab\"/></a>"
      ]
    },
    {
      "cell_type": "code",
      "execution_count": 24,
      "metadata": {
        "id": "TWVEwdTxOHLW"
      },
      "outputs": [],
      "source": [
        "# Import\n",
        "\n",
        "# Pipeline\n",
        "from sklearn.pipeline import Pipeline\n",
        "\n",
        "# Scaler estandar preprocesado\n",
        "from sklearn.preprocessing import StandardScaler\n",
        "\n",
        "# Splitter\n",
        "from sklearn.model_selection import train_test_split\n",
        "\n",
        "# Importamos un clasificador: Support Vector Classifier para ML\n",
        "from sklearn.svm import SVC\n",
        "##hOLA, ES UNA PRUEBAAAA"
      ]
    },
    {
      "cell_type": "code",
      "execution_count": 25,
      "metadata": {
        "id": "klZzdBwZ6jeR"
      },
      "outputs": [],
      "source": [
        "# Genera un problema de clasificación randmom de n-classes.\n",
        "\n",
        "from sklearn.datasets import make_classification\n",
        "\n",
        "X, y = make_classification(random_state=0)"
      ]
    },
    {
      "cell_type": "code",
      "execution_count": 26,
      "metadata": {
        "colab": {
          "base_uri": "https://localhost:8080/"
        },
        "id": "_jqPgUMXOp2C",
        "outputId": "c65d1f59-9ed0-4a70-e222-1dfe18987874"
      },
      "outputs": [
        {
          "data": {
            "text/plain": [
              "0.88"
            ]
          },
          "execution_count": 26,
          "metadata": {},
          "output_type": "execute_result"
        }
      ],
      "source": [
        "# Dividimos en test y train\n",
        "X_train, X_test, y_train, y_test = train_test_split(X, y, random_state=0)\n",
        "\n",
        "# Crea el pipeline\n",
        "# El pipeline puede usarse como un estimador\n",
        "# y evita data leaking del test set en el train set\n",
        "\n",
        "pipe = Pipeline([\n",
        "    ('scaler', StandardScaler()),\n",
        "    ('svc', SVC())\n",
        "    ])\n",
        "\n",
        "\n",
        "# Se aplican los pasos en el dataset de entrenamiento\n",
        "pipe.fit(X_train, y_train)\n",
        "\n",
        "# se aplican los pasos en el dataset de prueba\n",
        "pipe.score(X_test, y_test)"
      ]
    }
  ],
  "metadata": {
    "colab": {
      "authorship_tag": "ABX9TyMG+ReE26cydtJCRVzsKhSf",
      "include_colab_link": true,
      "provenance": []
    },
    "kernelspec": {
      "display_name": "Python 3",
      "name": "python3"
    },
    "language_info": {
      "name": "python"
    }
  },
  "nbformat": 4,
  "nbformat_minor": 0
}
